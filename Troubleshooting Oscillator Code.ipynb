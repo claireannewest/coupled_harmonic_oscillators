{
 "cells": [
  {
   "cell_type": "code",
   "execution_count": 7,
   "metadata": {},
   "outputs": [
    {
     "data": {
      "image/png": "[encoded data removed]",
      "text/plain": [
       "<Figure size 432x108 with 2 Axes>"
      ]
     },
     "metadata": {},
     "output_type": "display_data"
    }
   ],
   "source": [
    "from coupled_harmonic_osc import CoupledOscillators\n",
    "import numpy as np\n",
    "import matplotlib.pyplot as plt\n",
    "\n",
    "def constants():\n",
    "    # These constants are defined for fitting Drude to JC\n",
    "    wp = 8.025 #9. # eV, bulk plasma frequency \n",
    "    eps_inf = 11.304 # 9.7 # [unitless], static dielectric response of ionic background \n",
    "    gamNR_qs = 0.247# 0.073 # non-radiative Drude damping [eV]\n",
    "    eps_b = 1.029 #1.47**2 # background dielectric constant\n",
    "    return np.array([wp, eps_inf, gamNR_qs, eps_b])\n",
    "\n",
    "data = np.loadtxt('monomer.txt',skiprows=1)\n",
    "\n",
    "# coupled_dip = CoupledOscillators(constants(), \n",
    "#                                  1, \n",
    "#                                  2, \n",
    "#                                  np.array([data[0:2]]),#data[:,0:2], \n",
    "#                                  np.array([data[2:4]]),#data[:,2:4], \n",
    "#                                  np.array([data[4]]), #data[:,4], \n",
    "#                                  np.array([data[5]]), #data[:,5], \n",
    "#                                  '')\n",
    "\n",
    "coupled_dip = CoupledOscillators(constants(), \n",
    "                                 1, \n",
    "                                 2, \n",
    "                                 data[:,0:2], \n",
    "                                 data[:,2:4], \n",
    "                                 data[:,4], \n",
    "                                 data[:,5], \n",
    "                                 '')\n",
    "final_eigvals, final_eigvecs = coupled_dip.iterate()\n",
    "coupled_dip.see_vectors(final_eigvals, final_eigvecs)\n",
    "plt.show()"
   ]
  },
  {
   "cell_type": "code",
   "execution_count": null,
   "metadata": {},
   "outputs": [],
   "source": []
  },
  {
   "cell_type": "code",
   "execution_count": null,
   "metadata": {},
   "outputs": [],
   "source": []
  },
  {
   "cell_type": "code",
   "execution_count": null,
   "metadata": {},
   "outputs": [],
   "source": []
  }
 ],
 "metadata": {
  "kernelspec": {
   "display_name": "Python 3",
   "language": "python",
   "name": "python3"
  },
  "language_info": {
   "codemirror_mode": {
    "name": "ipython",
    "version": 3
   },
   "file_extension": ".py",
   "mimetype": "text/x-python",
   "name": "python",
   "nbconvert_exporter": "python",
   "pygments_lexer": "ipython3",
   "version": "3.8.3"
  }
 },
 "nbformat": 4,
 "nbformat_minor": 4
}
