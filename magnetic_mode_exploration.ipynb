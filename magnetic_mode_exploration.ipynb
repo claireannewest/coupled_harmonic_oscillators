{
 "cells": [
  {
   "cell_type": "code",
   "execution_count": 22,
   "metadata": {},
   "outputs": [
    {
     "name": "stdout",
     "output_type": "stream",
     "text": [
      "[[ 0.57735027+0.00000000e+00j  0.81649658+0.00000000e+00j\n",
      "   0.81649658+0.00000000e+00j]\n",
      " [ 0.57735027+1.86942350e-16j -0.40824829-1.20751371e-16j\n",
      "  -0.40824829+4.78557057e-16j]\n",
      " [-0.57735027-1.85366893e-16j  0.40824829+6.99202847e-17j\n",
      "   0.40824829+6.33681184e-16j]]\n"
     ]
    },
    {
     "data": {
      "image/png": "[encoded data removed]",
      "text/plain": [
       "<Figure size 432x108 with 3 Axes>"
      ]
     },
     "metadata": {},
     "output_type": "display_data"
    }
   ],
   "source": [
    "from coupled_harmonic_osc import CoupledOscillators\n",
    "import numpy as np\n",
    "import matplotlib.pyplot as plt\n",
    "from matplotlib.patches import Ellipse\n",
    "\n",
    "def constants():\n",
    "    # These constants are defined for fitting Drude to JC\n",
    "    wp = 9. # eV, bulk plasma frequency \n",
    "    eps_inf = 9.7 # [unitless], static dielectric response of ionic background \n",
    "    gamNR_qs = 0.073 # non-radiative Drude damping [eV]\n",
    "    eps_b = 1.**2 # background dielectric constant\n",
    "    return np.array([wp, eps_inf, gamNR_qs, eps_b])\n",
    "\n",
    "scale_radii=1\n",
    "long_radii = 100*scale_radii\n",
    "short_radii = 40*scale_radii\n",
    "\n",
    "scale_triangle = 1.4\n",
    "a = (2*long_radii*1E-7)*scale_triangle # length of equilateral triangle\n",
    "\n",
    "\n",
    "num_part = 3\n",
    "num_dip = 1\n",
    "centers_1dip = np.array([[a/2, 0], [3*a/4, np.sqrt(3)*a/4], [a/4, np.sqrt(3)*a/4]]) # particle centers\n",
    "\n",
    "unit_vecs_1dip = np.array([[1, 0], [-1/2, np.sqrt(3)/2], [1/2, np.sqrt(3)/2]]) # dipole orientations\n",
    "\n",
    "centers = centers_1dip\n",
    "unit_vecs = unit_vecs_1dip\n",
    "coupled_dip = CoupledOscillators(constants(), # drude constants \n",
    "                                 num_part, # number of particles\n",
    "                                 num_dip, # dipoles per particle\n",
    "                                 centers,\n",
    "                                 unit_vecs,\n",
    "                                 np.array([int(long_radii)*1.E-7, int(long_radii)*1.E-7, int(long_radii)*1.E-7]), # radii\n",
    "                                 np.array([1, 1, 1]), # kind\n",
    "                                 int(short_radii)*1.E-7,\n",
    "                                )\n",
    "\n",
    "\n",
    "final_eigvals, final_eigvecs = coupled_dip.iterate()\n",
    "# coupled_dip.see_vectors(final_eigvals, final_eigvecs)\n",
    "fig = plt.figure(1, figsize=[6,1.5])\n",
    "\n",
    "def see_vectors(final_eigvals, final_eigvecs, wind):\n",
    "    \"\"\"Plot the convereged eigenvectors.\"\"\"\n",
    "    dip_ycoords = centers[:,0]\n",
    "    dip_zcoords = centers[:,1] \n",
    "    mat_size = int(num_dip*num_part) \n",
    "    w = final_eigvals[np.real(final_eigvals).argsort()] # sort the evals and evecs so that we are comparing the same eval/evec as the previous trial.\n",
    "    v = final_eigvecs[:,np.real(final_eigvals).argsort()] # sort the evals and evecs so that we are comparing the same eval/evec as the previous trial.\n",
    "    print(final_eigvecs[:,np.imag(final_eigvals).argsort()])\n",
    "    for mode in range(0, mat_size):\n",
    "        energy = np.real(w[mode]) # [eV]\n",
    "        vector_mag = np.real(v[:,mode]) # [unitless]\n",
    "        ax = fig.add_subplot(str(1)+str(mat_size)+str(mode+1), aspect='equal')\n",
    "        ################################\n",
    "        ################################\n",
    "        ells = [Ellipse(xy=centers[0,:], width=2*short_radii*1E-7, height=2*long_radii*1E-7, angle=(np.pi/2+np.arctan2(unit_vecs[0,1], unit_vecs[0,0]))*180/np.pi),\n",
    "                Ellipse(xy=centers[1,:], width=2*short_radii*1E-7, height=2*long_radii*1E-7, angle=(np.pi/2+np.arctan2(unit_vecs[1,1], unit_vecs[1,0]))*180/np.pi),\n",
    "                Ellipse(xy=centers[2,:], width=2*short_radii*1E-7, height=2*long_radii*1E-7, angle=(np.pi/2+np.arctan2(unit_vecs[2,1], unit_vecs[2,0]))*180/np.pi)\n",
    "               ]\n",
    "        for e in ells:\n",
    "            ax.add_artist(e)\n",
    "            e.set_clip_box(ax.bbox)\n",
    "            e.set_alpha(1)\n",
    "            e.set_facecolor('gold')\n",
    "        ################################\n",
    "        plt.title('%.2f' % energy + ' eV', fontsize=10)\n",
    "        p = vector_mag[...,np.newaxis]*unit_vecs\n",
    "        if num_dip == 1: p_perpart = p\n",
    "        else: p_perpart = p[:int(mat_size/num_dip),:] + p[int(mat_size/num_dip):,:] \n",
    "        plt.quiver(dip_ycoords[:int(mat_size/num_dip)], dip_zcoords[:int(mat_size/num_dip)], p_perpart[:,0], p_perpart[:,1], pivot='mid', \n",
    "            width=.5, #shaft width in arrow units \n",
    "            scale=2.3, \n",
    "            headlength=5,\n",
    "            headwidth=5.,\n",
    "            minshaft=2., \n",
    "            minlength=.01,\n",
    "            zorder=2\n",
    "            )\n",
    "        plt.yticks([]); plt.xticks([])\n",
    "#         plt.scatter(dip_ycoords, dip_zcoords,c='blue',s=20)\n",
    "        center_of_tri = np.array([a/2, np.sqrt(3)/6*a])\n",
    "        ax.set_xlim(center_of_tri[0]-wind, center_of_tri[0]+wind)\n",
    "        ax.set_ylim(center_of_tri[1]-wind, center_of_tri[1]+wind)\n",
    "\n",
    "\n",
    "see_vectors(final_eigvals=final_eigvals, final_eigvecs=final_eigvecs, wind=200E-7*scale_triangle*scale_radii)\n",
    "# print(long_radii*2)\n",
    "plt.show()\n"
   ]
  },
  {
   "cell_type": "code",
   "execution_count": 41,
   "metadata": {},
   "outputs": [
    {
     "name": "stdout",
     "output_type": "stream",
     "text": [
      "626 - 805\n",
      "321\n"
     ]
    }
   ],
   "source": [
    "print(int(1240/0.99/2), '-', int(1240/0.77/2))\n",
    "print(int(a*1E7/2))"
   ]
  },
  {
   "cell_type": "code",
   "execution_count": 56,
   "metadata": {},
   "outputs": [
    {
     "data": {
      "image/png": "[encoded data removed]",
      "text/plain": [
       "<Figure size 504x720 with 10 Axes>"
      ]
     },
     "metadata": {
      "needs_background": "light"
     },
     "output_type": "display_data"
    }
   ],
   "source": [
    "from scipy.io import loadmat\n",
    "import matplotlib.pyplot as plt\n",
    "import numpy as np\n",
    "from mpl_toolkits.axes_grid1 import make_axes_locatable\n",
    "\n",
    "field_imag = loadmat('ez_imag')['ez_imag']\n",
    "field_real = loadmat('ez_real')['ez_real']\n",
    "\n",
    "fig = plt.figure(1, figsize=[7,10])\n",
    "tot_phases = [0, np.pi/4, np.pi/2, 3*np.pi/4, np.pi]\n",
    "count=0\n",
    "for i in tot_phases:\n",
    "    count = count+1\n",
    "    ax = fig.add_subplot(str(1)+str(len(tot_phases))+str(count), aspect='equal')\n",
    "\n",
    "    phi=i\n",
    "    Etot = field_real*np.cos(phi) + field_imag*np.sin(phi)\n",
    "    plt.imshow(Etot,origin='lower',cmap='seismic')\n",
    "    cbar_num_format = \"%0.f\"\n",
    "    divider = make_axes_locatable(ax)\n",
    "    cax = divider.append_axes(\"right\", size=\"5%\", pad=.1)\n",
    "    cbar = plt.colorbar(format=cbar_num_format,cax=cax)\n",
    "    ax.set_yticks([]); ax.set_xticks([])\n",
    "\n",
    "fig.subplots_adjust(wspace=0.6)\n"
   ]
  },
  {
   "cell_type": "code",
   "execution_count": null,
   "metadata": {},
   "outputs": [],
   "source": []
  }
 ],
 "metadata": {
  "kernelspec": {
   "display_name": "Python 3",
   "language": "python",
   "name": "python3"
  },
  "language_info": {
   "codemirror_mode": {
    "name": "ipython",
    "version": 3
   },
   "file_extension": ".py",
   "mimetype": "text/x-python",
   "name": "python",
   "nbconvert_exporter": "python",
   "pygments_lexer": "ipython3",
   "version": "3.8.3"
  }
 },
 "nbformat": 4,
 "nbformat_minor": 4
}
