{
 "cells": [
  {
   "cell_type": "markdown",
   "metadata": {},
   "source": [
    "## Sphere Comparison"
   ]
  },
  {
   "cell_type": "code",
   "execution_count": 1,
   "metadata": {},
   "outputs": [
    {
     "ename": "OSError",
     "evalue": "Spectrum_mie_20nmsph not found.",
     "output_type": "error",
     "traceback": [
      "\u001b[0;31m---------------------------------------------------------------------\u001b[0m",
      "\u001b[0;31mOSError\u001b[0m                             Traceback (most recent call last)",
      "\u001b[0;32m<ipython-input-1-aff8dfc3bd21>\u001b[0m in \u001b[0;36m<module>\u001b[0;34m\u001b[0m\n\u001b[1;32m     43\u001b[0m \u001b[0mplt\u001b[0m\u001b[0;34m.\u001b[0m\u001b[0mplot\u001b[0m\u001b[0;34m(\u001b[0m\u001b[0mw\u001b[0m\u001b[0;34m,\u001b[0m \u001b[0mext_cross\u001b[0m\u001b[0;34m(\u001b[0m\u001b[0mw\u001b[0m\u001b[0;34m=\u001b[0m\u001b[0mw\u001b[0m\u001b[0;34m)\u001b[0m\u001b[0;34m/\u001b[0m\u001b[0mmax\u001b[0m\u001b[0;34m(\u001b[0m\u001b[0mCext\u001b[0m\u001b[0;34m)\u001b[0m\u001b[0;34m,\u001b[0m \u001b[0mlabel\u001b[0m\u001b[0;34m=\u001b[0m\u001b[0;34m'analytic'\u001b[0m\u001b[0;34m)\u001b[0m\u001b[0;34m\u001b[0m\u001b[0;34m\u001b[0m\u001b[0m\n\u001b[1;32m     44\u001b[0m \u001b[0;34m\u001b[0m\u001b[0m\n\u001b[0;32m---> 45\u001b[0;31m \u001b[0mdata\u001b[0m \u001b[0;34m=\u001b[0m \u001b[0mnp\u001b[0m\u001b[0;34m.\u001b[0m\u001b[0mloadtxt\u001b[0m\u001b[0;34m(\u001b[0m\u001b[0mstr\u001b[0m\u001b[0;34m(\u001b[0m\u001b[0;34m'Spectrum_mie_'\u001b[0m\u001b[0;34m)\u001b[0m\u001b[0;34m+\u001b[0m\u001b[0mstr\u001b[0m\u001b[0;34m(\u001b[0m\u001b[0mradii\u001b[0m\u001b[0;34m)\u001b[0m\u001b[0;34m+\u001b[0m\u001b[0mstr\u001b[0m\u001b[0;34m(\u001b[0m\u001b[0;34m'nmsph'\u001b[0m\u001b[0;34m)\u001b[0m\u001b[0;34m,\u001b[0m\u001b[0mskiprows\u001b[0m\u001b[0;34m=\u001b[0m\u001b[0;36m1\u001b[0m\u001b[0;34m)\u001b[0m\u001b[0;34m\u001b[0m\u001b[0;34m\u001b[0m\u001b[0m\n\u001b[0m\u001b[1;32m     46\u001b[0m \u001b[0mwave\u001b[0m \u001b[0;34m=\u001b[0m \u001b[0mdata\u001b[0m\u001b[0;34m[\u001b[0m\u001b[0;34m:\u001b[0m\u001b[0;34m,\u001b[0m\u001b[0;36m0\u001b[0m\u001b[0;34m]\u001b[0m\u001b[0;34m\u001b[0m\u001b[0;34m\u001b[0m\u001b[0m\n\u001b[1;32m     47\u001b[0m \u001b[0mext\u001b[0m \u001b[0;34m=\u001b[0m \u001b[0mdata\u001b[0m\u001b[0;34m[\u001b[0m\u001b[0;34m:\u001b[0m\u001b[0;34m,\u001b[0m\u001b[0;36m1\u001b[0m\u001b[0;34m]\u001b[0m\u001b[0;34m\u001b[0m\u001b[0;34m\u001b[0m\u001b[0m\n",
      "\u001b[0;32m~/opt/anaconda3/lib/python3.8/site-packages/numpy/lib/npyio.py\u001b[0m in \u001b[0;36mloadtxt\u001b[0;34m(fname, dtype, comments, delimiter, converters, skiprows, usecols, unpack, ndmin, encoding, max_rows)\u001b[0m\n\u001b[1;32m    979\u001b[0m             \u001b[0mfname\u001b[0m \u001b[0;34m=\u001b[0m \u001b[0mos_fspath\u001b[0m\u001b[0;34m(\u001b[0m\u001b[0mfname\u001b[0m\u001b[0;34m)\u001b[0m\u001b[0;34m\u001b[0m\u001b[0;34m\u001b[0m\u001b[0m\n\u001b[1;32m    980\u001b[0m         \u001b[0;32mif\u001b[0m \u001b[0m_is_string_like\u001b[0m\u001b[0;34m(\u001b[0m\u001b[0mfname\u001b[0m\u001b[0;34m)\u001b[0m\u001b[0;34m:\u001b[0m\u001b[0;34m\u001b[0m\u001b[0;34m\u001b[0m\u001b[0m\n\u001b[0;32m--> 981\u001b[0;31m             \u001b[0mfh\u001b[0m \u001b[0;34m=\u001b[0m \u001b[0mnp\u001b[0m\u001b[0;34m.\u001b[0m\u001b[0mlib\u001b[0m\u001b[0;34m.\u001b[0m\u001b[0m_datasource\u001b[0m\u001b[0;34m.\u001b[0m\u001b[0mopen\u001b[0m\u001b[0;34m(\u001b[0m\u001b[0mfname\u001b[0m\u001b[0;34m,\u001b[0m \u001b[0;34m'rt'\u001b[0m\u001b[0;34m,\u001b[0m \u001b[0mencoding\u001b[0m\u001b[0;34m=\u001b[0m\u001b[0mencoding\u001b[0m\u001b[0;34m)\u001b[0m\u001b[0;34m\u001b[0m\u001b[0;34m\u001b[0m\u001b[0m\n\u001b[0m\u001b[1;32m    982\u001b[0m             \u001b[0mfencoding\u001b[0m \u001b[0;34m=\u001b[0m \u001b[0mgetattr\u001b[0m\u001b[0;34m(\u001b[0m\u001b[0mfh\u001b[0m\u001b[0;34m,\u001b[0m \u001b[0;34m'encoding'\u001b[0m\u001b[0;34m,\u001b[0m \u001b[0;34m'latin1'\u001b[0m\u001b[0;34m)\u001b[0m\u001b[0;34m\u001b[0m\u001b[0;34m\u001b[0m\u001b[0m\n\u001b[1;32m    983\u001b[0m             \u001b[0mfh\u001b[0m \u001b[0;34m=\u001b[0m \u001b[0miter\u001b[0m\u001b[0;34m(\u001b[0m\u001b[0mfh\u001b[0m\u001b[0;34m)\u001b[0m\u001b[0;34m\u001b[0m\u001b[0;34m\u001b[0m\u001b[0m\n",
      "\u001b[0;32m~/opt/anaconda3/lib/python3.8/site-packages/numpy/lib/_datasource.py\u001b[0m in \u001b[0;36mopen\u001b[0;34m(path, mode, destpath, encoding, newline)\u001b[0m\n\u001b[1;32m    267\u001b[0m \u001b[0;34m\u001b[0m\u001b[0m\n\u001b[1;32m    268\u001b[0m     \u001b[0mds\u001b[0m \u001b[0;34m=\u001b[0m \u001b[0mDataSource\u001b[0m\u001b[0;34m(\u001b[0m\u001b[0mdestpath\u001b[0m\u001b[0;34m)\u001b[0m\u001b[0;34m\u001b[0m\u001b[0;34m\u001b[0m\u001b[0m\n\u001b[0;32m--> 269\u001b[0;31m     \u001b[0;32mreturn\u001b[0m \u001b[0mds\u001b[0m\u001b[0;34m.\u001b[0m\u001b[0mopen\u001b[0m\u001b[0;34m(\u001b[0m\u001b[0mpath\u001b[0m\u001b[0;34m,\u001b[0m \u001b[0mmode\u001b[0m\u001b[0;34m,\u001b[0m \u001b[0mencoding\u001b[0m\u001b[0;34m=\u001b[0m\u001b[0mencoding\u001b[0m\u001b[0;34m,\u001b[0m \u001b[0mnewline\u001b[0m\u001b[0;34m=\u001b[0m\u001b[0mnewline\u001b[0m\u001b[0;34m)\u001b[0m\u001b[0;34m\u001b[0m\u001b[0;34m\u001b[0m\u001b[0m\n\u001b[0m\u001b[1;32m    270\u001b[0m \u001b[0;34m\u001b[0m\u001b[0m\n\u001b[1;32m    271\u001b[0m \u001b[0;34m\u001b[0m\u001b[0m\n",
      "\u001b[0;32m~/opt/anaconda3/lib/python3.8/site-packages/numpy/lib/_datasource.py\u001b[0m in \u001b[0;36mopen\u001b[0;34m(self, path, mode, encoding, newline)\u001b[0m\n\u001b[1;32m    621\u001b[0m                                       encoding=encoding, newline=newline)\n\u001b[1;32m    622\u001b[0m         \u001b[0;32melse\u001b[0m\u001b[0;34m:\u001b[0m\u001b[0;34m\u001b[0m\u001b[0;34m\u001b[0m\u001b[0m\n\u001b[0;32m--> 623\u001b[0;31m             \u001b[0;32mraise\u001b[0m \u001b[0mIOError\u001b[0m\u001b[0;34m(\u001b[0m\u001b[0;34m\"%s not found.\"\u001b[0m \u001b[0;34m%\u001b[0m \u001b[0mpath\u001b[0m\u001b[0;34m)\u001b[0m\u001b[0;34m\u001b[0m\u001b[0;34m\u001b[0m\u001b[0m\n\u001b[0m\u001b[1;32m    624\u001b[0m \u001b[0;34m\u001b[0m\u001b[0m\n\u001b[1;32m    625\u001b[0m \u001b[0;34m\u001b[0m\u001b[0m\n",
      "\u001b[0;31mOSError\u001b[0m: Spectrum_mie_20nmsph not found."
     ]
    },
    {
     "data": {
      "image/png": "[encoded data removed]",
      "text/plain": [
       "<Figure size 432x288 with 1 Axes>"
      ]
     },
     "metadata": {
      "needs_background": "light"
     },
     "output_type": "display_data"
    }
   ],
   "source": [
    "from coupled_harmonic_osc import CoupledOscillators\n",
    "import numpy as np\n",
    "import matplotlib.pyplot as plt\n",
    "\n",
    "def constants():\n",
    "    # These constants are defined for fitting Drude to JC\n",
    "    wp = 9. # eV, bulk plasma frequency \n",
    "    eps_inf = 9.7 # [unitless], static dielectric response of ionic background \n",
    "    gamNR_qs = 0.073 # non-radiative Drude damping [eV]\n",
    "    eps_b = 1.0**2 # background dielectric constant\n",
    "    return np.array([wp, eps_inf, gamNR_qs, eps_b])\n",
    "\n",
    "radii = 20\n",
    "coupled_dip = CoupledOscillators(constants(), # drude constants \n",
    "                                 1, # number of particles\n",
    "                                 1, # dipoles per particle\n",
    "                                 np.array([[0, 0]]), # particle centers\n",
    "                                 np.array([[1, 0]]), # dipole orientations\n",
    "                                 np.array([int(radii)*1.E-7]), # radii\n",
    "                                 np.array([1, 1]), # kind\n",
    "                                 5E-7)\n",
    "final_eigvals, final_eigvecs = coupled_dip.iterate()\n",
    "# coupled_dip.see_vectors(final_eigvals, final_eigvecs)\n",
    "\n",
    "w0, m, gamNR = coupled_dip.dipole_parameters()\n",
    "\n",
    "e = 4.80326E-10 #statC\n",
    "c = 2.998E+10 #cm/s\n",
    "hbar_eVs = 6.58212E-16 #eV*s\n",
    "hbar_cgs = 1.0545716E-27 \n",
    "\n",
    "w = np.arange(.5, 3, .01)\n",
    "\n",
    "def alpha(w):\n",
    "    gamR = 2.*e**2*(w)**2/(3.*m*c**3)/hbar_eVs\n",
    "    gamTot = gamNR + gamR\n",
    "    return e**2/m * hbar_eVs**2 / (- w**2 - 1j*gamTot*w + w0**2)\n",
    "\n",
    "def ext_cross(w):\n",
    "    return 4.*np.pi*w/c*np.imag(alpha(w=w))\n",
    "\n",
    "Cext = ext_cross(w=w)\n",
    "plt.plot(w, ext_cross(w=w)/max(Cext), label='analytic')\n",
    "\n",
    "data = np.loadtxt(str('Spectrum_mie_')+str(radii)+str('nmsph'),skiprows=1)\n",
    "wave = data[:,0]\n",
    "ext = data[:,1]\n",
    "plt.plot(wave, ext/max(ext), label='sim')\n",
    "\n",
    "\n",
    "idx = np.where(ext==max(ext))\n",
    "print(radii*2, str('nm diameter sphere'))\n",
    "print(str('Eval:'), np.round(np.real(final_eigvals)[0], 2), str('eV'))\n",
    "print(str('Resonance:'), wave[idx][0], str('eV'))\n",
    "plt.xlabel('x [eV]')\n",
    "plt.xlim([0.5, 2.5])\n",
    "plt.legend()\n",
    "plt.show()"
   ]
  },
  {
   "cell_type": "markdown",
   "metadata": {},
   "source": [
    "## Look at drude data"
   ]
  },
  {
   "cell_type": "code",
   "execution_count": null,
   "metadata": {},
   "outputs": [],
   "source": [
    "drude_data = np.loadtxt('/Users/clairewest/werk/research/MNPBEM17/Material/@epstable/drude.dat',skiprows=2)\n",
    "ev = drude_data[:,0]\n",
    "n = drude_data[:,1]\n",
    "k = drude_data[:,2]\n",
    "\n",
    "jc_data = np.loadtxt('/Users/clairewest/werk/research/MNPBEM17/Material/@epstable/gold.dat',skiprows=2)\n",
    "ev = drude_data[:,0]\n",
    "n = drude_data[:,1]\n",
    "k = drude_data[:,2]\n",
    "\n",
    "plt.plot(drude_data[:,0], drude_data[:,1])\n",
    "plt.plot(drude_data[:,0], drude_data[:,2])\n",
    "\n",
    "plt.plot(jc_data[:,0], jc_data[:,1], '--', c='tab:blue', label='n jc')\n",
    "plt.plot(jc_data[:,0], jc_data[:,2], '--', c='tab:orange',label='k jc')\n",
    "plt.legend()\n",
    "plt.xlim([0.5, 4])\n",
    "plt.show()\n",
    "print(min(ev))\n"
   ]
  },
  {
   "cell_type": "markdown",
   "metadata": {},
   "source": [
    "## Prolate spheroid comparison\n"
   ]
  },
  {
   "cell_type": "code",
   "execution_count": 2,
   "metadata": {},
   "outputs": [
    {
     "name": "stdout",
     "output_type": "stream",
     "text": [
      "200 nm length rod\n",
      "Eval: 1.85 eV\n",
      "Resonance: 1.862 eV\n"
     ]
    },
    {
     "data": {
      "image/png": "[encoded data removed]",
      "text/plain": [
       "<Figure size 432x288 with 1 Axes>"
      ]
     },
     "metadata": {
      "needs_background": "light"
     },
     "output_type": "display_data"
    }
   ],
   "source": [
    "def constants():\n",
    "    # These constants are defined for fitting Drude to JC\n",
    "    wp = 9. # eV, bulk plasma frequency \n",
    "    eps_inf = 9.7 # [unitless], static dielectric response of ionic background \n",
    "    gamNR_qs = 0.073 # non-radiative Drude damping [eV]\n",
    "    eps_b = 1.**2 # background dielectric constant\n",
    "    return np.array([wp, eps_inf, gamNR_qs, eps_b])\n",
    "\n",
    "radii = 100\n",
    "coupled_dip = CoupledOscillators(constants(), # drude constants \n",
    "                                 1, # number of particles\n",
    "                                 1, # dipoles per particle\n",
    "                                 np.array([[0, 0]]), # particle centers\n",
    "                                 np.array([[1, 0]]), # dipole orientations\n",
    "                                 np.array([int(radii)*1.E-7]), # radii\n",
    "                                 np.array([1]), # kind\n",
    "                                 40E-7)\n",
    "final_eigvals, final_eigvecs = coupled_dip.iterate()\n",
    "# coupled_dip.see_vectors(final_eigvals, final_eigvecs)\n",
    "\n",
    "def lorentz(w, w0, gam):\n",
    "    return np.imag(2*gam/(w0**2-w**2-1j*gam*2*w))\n",
    "\n",
    "w0, m, gamNR = coupled_dip.dipole_parameters()\n",
    "\n",
    "e = 4.80326E-10 #statC\n",
    "c = 2.998E+10 #cm/s\n",
    "hbar_eVs = 6.58212E-16 #eV*s\n",
    "hbar_cgs = 1.0545716E-27 \n",
    "\n",
    "w = np.arange(.5, 3, .01)\n",
    "\n",
    "def alpha(w):\n",
    "    gamR = 2.*e**2*(w)**2/(3.*m*c**3)/hbar_eVs\n",
    "    gamTot = gamNR + gamR\n",
    "    return e**2/m * hbar_eVs**2 / (- w**2 - 1j*gamTot*w + w0**2)\n",
    "\n",
    "def ext_cross(w):\n",
    "    return 4.*np.pi*w/c*np.imag(alpha(w=w))\n",
    "\n",
    "Cext = ext_cross(w=w)\n",
    "plt.plot(w, ext_cross(w=w), label='analytic')\n",
    "\n",
    "data = np.loadtxt(str('Spectrum_40_')+str(radii),skiprows=1)\n",
    "wave = data[:,0]\n",
    "ext = data[:,1]\n",
    "plt.plot(wave, ext, label='sim')\n",
    "\n",
    "lorntz = lorentz(w=w, w0=np.real(final_eigvals[0]), gam=np.imag(final_eigvals[0]))\n",
    "plt.plot(w, lorntz, label='lorntz')\n",
    "\n",
    "\n",
    "\n",
    "idx = np.where(ext==max(ext))\n",
    "print(radii*2, str('nm length rod'))\n",
    "print(str('Eval:'), np.round(np.real(final_eigvals)[0], 2), str('eV'))\n",
    "print(str('Resonance:'), wave[idx][0], str('eV'))\n",
    "plt.xlabel('x [eV]')\n",
    "plt.xlim([0.5, 2.5])\n",
    "plt.legend()\n",
    "plt.show()"
   ]
  },
  {
   "cell_type": "markdown",
   "metadata": {},
   "source": [
    "## Prolate dimer analysis"
   ]
  },
  {
   "cell_type": "code",
   "execution_count": 3,
   "metadata": {},
   "outputs": [
    {
     "ename": "SyntaxError",
     "evalue": "unexpected EOF while parsing (<ipython-input-3-f70002f87dbe>, line 9)",
     "output_type": "error",
     "traceback": [
      "\u001b[0;36m  File \u001b[0;32m\"<ipython-input-3-f70002f87dbe>\"\u001b[0;36m, line \u001b[0;32m9\u001b[0m\n\u001b[0;31m    \u001b[0m\n\u001b[0m    ^\u001b[0m\n\u001b[0;31mSyntaxError\u001b[0m\u001b[0;31m:\u001b[0m unexpected EOF while parsing\n"
     ]
    }
   ],
   "source": [
    "def constants():\n",
    "    # These constants are defined for fitting Drude to JC\n",
    "    wp = 9. # eV, bulk plasma frequency \n",
    "    eps_inf = 9.7 # [unitless], static dielectric response of ionic background \n",
    "    gamNR_qs = 0.073 # non-radiative Drude damping [eV]\n",
    "    eps_b = 1.**2 # background dielectric constant\n",
    "    return np.array([wp, eps_inf, gamNR_qs, eps_b]\n",
    "                    \n",
    "                    "
   ]
  },
  {
   "cell_type": "code",
   "execution_count": 4,
   "metadata": {},
   "outputs": [
    {
     "data": {
      "image/png": "[encoded data removed]",
      "text/plain": [
       "<Figure size 432x288 with 1 Axes>"
      ]
     },
     "metadata": {
      "needs_background": "light"
     },
     "output_type": "display_data"
    },
    {
     "name": "stdout",
     "output_type": "stream",
     "text": [
      "[1.8911547497615135]\n",
      "[1.918684008953632]\n"
     ]
    }
   ],
   "source": [
    "radii1 = 20; radii2 = radii1\n",
    "bonding = []\n",
    "antibonding = []\n",
    "change_sep = []\n",
    "\n",
    "for raster in range(50, 60, 10):\n",
    "    sep = raster*1E-7\n",
    "    coupled_dip = CoupledOscillators(constants(), # drude constants \n",
    "                                 2, # number of particles\n",
    "                                 1, # dipoles per particle\n",
    "                                 np.array([[-sep/2, 0], [sep/2, 0]]), # particle centers\n",
    "                                 np.array([[1, 0], [1, 0]]), # dipole orientations\n",
    "                                 np.array([int(radii1)*1.E-7, int(radii2)*1.E-7]), # radii\n",
    "                                 np.array([1, 1]), # kind\n",
    "                                 5E-7)\n",
    "    final_eigvals, final_eigvecs = coupled_dip.iterate()\n",
    "    en0 = np.real(final_eigvals[0])\n",
    "    en1 = np.real(final_eigvals[1])\n",
    "    v0 = final_eigvecs[:,0] # [unitless]\n",
    "    phi0 = np.arctan2(np.imag(v0), np.real(v0))\n",
    "    dphi0 = np.abs(np.diff(phi0))\n",
    "    v1 = final_eigvecs[:,1] # [unitless]\n",
    "    phi1 = np.arctan2(np.imag(v1), np.real(v1))\n",
    "    dphi1 = np.abs(np.diff(phi1))\n",
    "    \n",
    "    if (np.round(dphi0, 2)[0]) == (np.round(dphi1, 2)[0]): continue\n",
    "    if (np.round(dphi0, 2)[0]) == 3.14:\n",
    "        antibonding.append(en0) \n",
    "        \n",
    "    if (np.round(dphi1, 2)[0]) == 3.14:\n",
    "        antibonding.append(en1)         \n",
    "        \n",
    "    if (np.round(dphi0, 2)[0]) == 0:\n",
    "        bonding.append(en0) \n",
    "        \n",
    "    if (np.round(dphi1, 2)[0]) == 0:\n",
    "        bonding.append(en1)    \n",
    "        \n",
    "    change_sep.append(raster)\n",
    "#     coupled_dip.see_vectors(final_eigvals, final_eigvecs)\n",
    "#     plt.show()\n",
    "\n",
    "plt.plot(change_sep, bonding, label='dphi=0 (bond)')\n",
    "plt.plot(change_sep, antibonding, label='dphi=pi (antibond)')\n",
    "plt.xlabel('Separation [nm]')\n",
    "plt.ylabel('Eigenenergy [eV]')\n",
    "plt.legend()\n",
    "plt.show()\n",
    "\n",
    "# print(max(np.asarray(bonding)-np.asarray(antibonding)))\n",
    "print(bonding)\n",
    "print(antibonding)"
   ]
  },
  {
   "cell_type": "code",
   "execution_count": 5,
   "metadata": {},
   "outputs": [
    {
     "name": "stdout",
     "output_type": "stream",
     "text": [
      "[]\n"
     ]
    },
    {
     "data": {
      "image/png": "[encoded data removed]",
      "text/plain": [
       "<Figure size 432x288 with 1 Axes>"
      ]
     },
     "metadata": {
      "needs_background": "light"
     },
     "output_type": "display_data"
    }
   ],
   "source": [
    "start = 1; end = 200\n",
    "shortened_sep = change_sep[start:end]\n",
    "shortened_bond = bonding[start:end]\n",
    "shortened_anti = antibonding[start:end]\n",
    "\n",
    "plt.plot(shortened_sep, shortened_bond,'o', label='dphi=0 (bond)')\n",
    "plt.plot(shortened_sep, shortened_anti,'o', label='dphi=pi (antibond)')\n",
    "\n",
    "\n",
    "diff_func = np.asarray(shortened_bond)-np.asarray(shortened_anti)\n",
    "idx = np.where((np.round(diff_func,4) == 0))\n",
    "crossings = np.asarray(shortened_sep)[idx]\n",
    "print(crossings)\n",
    "# for i in range(0, len(crossings)):\n",
    "#     plt.plot([crossings[i], crossings[i]], [min(shortened_bond), max(shortened_anti)], color='black')\n",
    "plt.legend()\n",
    "\n",
    "# first crossing at 230 nm\n",
    "# period = 260 nm\n",
    "plt.show()"
   ]
  },
  {
   "cell_type": "markdown",
   "metadata": {},
   "source": [
    "## Reproduce trend with BEM"
   ]
  },
  {
   "cell_type": "code",
   "execution_count": 6,
   "metadata": {},
   "outputs": [
    {
     "data": {
      "image/png": "[encoded data removed]",
      "text/plain": [
       "<Figure size 432x108 with 2 Axes>"
      ]
     },
     "metadata": {},
     "output_type": "display_data"
    },
    {
     "name": "stdout",
     "output_type": "stream",
     "text": [
      "325.3773266890562\n"
     ]
    }
   ],
   "source": [
    "radii1 = 20; radii2 = radii1\n",
    "bonding = []\n",
    "antibonding = []\n",
    "change_sep = []\n",
    "\n",
    "gap = 50\n",
    "sep = gap*1E-7\n",
    "coupled_dip = CoupledOscillators(constants(), # drude constants \n",
    "                     2, # number of particles\n",
    "                     1, # dipoles per particle\n",
    "                     np.array([[-sep/2, 0], [sep/2, 0]]), # particle centers\n",
    "                     np.array([[1, 0], [1, 0]]), # dipole orientations\n",
    "                     np.array([int(radii1)*1.E-7, int(radii2)*1.E-7]), # radii\n",
    "                     np.array([1, 1]), # kind\n",
    "                     5E-7)\n",
    "final_eigvals, final_eigvecs = coupled_dip.iterate()\n",
    "en0 = np.real(final_eigvals[0])\n",
    "en1 = np.real(final_eigvals[1])\n",
    "v0 = final_eigvecs[:,0] # [unitless]\n",
    "phi0 = np.arctan2(np.imag(v0), np.real(v0))\n",
    "dphi0 = np.abs(np.diff(phi0))\n",
    "v1 = final_eigvecs[:,1] # [unitless]\n",
    "phi1 = np.arctan2(np.imag(v1), np.real(v1))\n",
    "dphi1 = np.abs(np.diff(phi1))\n",
    "\n",
    "if (np.round(dphi0, 2)[0]) == (np.round(dphi1, 2)[0]): pass#continue\n",
    "if (np.round(dphi0, 2)[0]) == 3.14:\n",
    "    antibonding.append(en0) \n",
    "\n",
    "if (np.round(dphi1, 2)[0]) == 3.14:\n",
    "    antibonding.append(en1)         \n",
    "\n",
    "if (np.round(dphi0, 2)[0]) == 0:\n",
    "    bonding.append(en0) \n",
    "\n",
    "if (np.round(dphi1, 2)[0]) == 0:\n",
    "    bonding.append(en1)    \n",
    "        \n",
    "change_sep.append(gap)\n",
    "coupled_dip.see_vectors(final_eigvals, final_eigvecs)\n",
    "w0, m, gamNR = coupled_dip.dipole_parameters()\n",
    "plt.show()\n",
    "\n",
    "\n",
    "print(1240/(w0[0])/2)"
   ]
  },
  {
   "cell_type": "code",
   "execution_count": 7,
   "metadata": {},
   "outputs": [
    {
     "name": "stdout",
     "output_type": "stream",
     "text": [
      "0\n",
      "4\n",
      "5\n",
      "6\n",
      "7\n"
     ]
    },
    {
     "data": {
      "image/png": "[encoded data removed]",
      "text/plain": [
       "<Figure size 432x288 with 1 Axes>"
      ]
     },
     "metadata": {
      "needs_background": "light"
     },
     "output_type": "display_data"
    }
   ],
   "source": [
    "radii=25\n",
    "\n",
    "bonding = []\n",
    "antibonding = []\n",
    "change_sep = []\n",
    "\n",
    "for i in range(200, 1190, 10):\n",
    "    gap=i\n",
    "    data = np.loadtxt(str('Spectrum_eels_')+str(radii)+str('nmsph_gap')+str(gap),skiprows=1)\n",
    "#     plt.plot(data[:,0], data[:,1]/max( data[:,1]), label='bond sim')\n",
    "#     plt.plot(data[:,0], data[:,2]/max( data[:,2]), label='anti sim')\n",
    "#     plt.legend()\n",
    "#     plt.title(gap)\n",
    "#     plt.show()\n",
    "    idx_b = np.where(data[:,1] == max(data[:,1]))\n",
    "    w_b = data[idx_b,0][0][0]\n",
    "    idx_ab = np.where(data[:,2] == max(data[:,2]))\n",
    "    w_ab = data[idx_ab,0][0][0]\n",
    "    bonding.append(w_b)         \n",
    "    antibonding.append(w_ab)  \n",
    "    change_sep.append(i)         \n",
    "    \n",
    "# print(bonding)    \n",
    "    \n",
    "plt.plot(change_sep,  bonding, '-o',label='bond')\n",
    "plt.plot(change_sep,  antibonding,'-o', label='anti')\n",
    "plt.legend()\n",
    "# print(np.asarray(bonding)-np.asarray(antibonding))\n",
    "for i in range(0, len(bonding)):\n",
    "    if bonding[i]-antibonding[i] > 0:\n",
    "        plt.plot(change_sep[i], bonding[i], 'ko')\n",
    "        print(i)\n"
   ]
  },
  {
   "cell_type": "code",
   "execution_count": 15,
   "metadata": {},
   "outputs": [
    {
     "data": {
      "image/png": "[encoded data removed]",
      "text/plain": [
       "<Figure size 432x288 with 1 Axes>"
      ]
     },
     "metadata": {
      "needs_background": "light"
     },
     "output_type": "display_data"
    },
    {
     "name": "stdout",
     "output_type": "stream",
     "text": [
      "1.884 1.945\n"
     ]
    }
   ],
   "source": [
    "radii1=5; radii2 = 20\n",
    "\n",
    "bonding = []\n",
    "antibonding = []\n",
    "change_sep = []\n",
    "\n",
    "for i in range(50, 60, 10):\n",
    "    gap=i\n",
    "    data = np.loadtxt(str('Spectrum_eels_')+str(radii1)+str('-')+str(radii2)+str('ellipsoid_gap')+str(gap),skiprows=1)\n",
    "    plt.plot(data[:,0], data[:,1], label='bond sim')\n",
    "    plt.plot(data[:,0], data[:,2], label='anti sim')\n",
    "    plt.legend()\n",
    "    plt.title(gap)\n",
    "    plt.show()\n",
    "    idx_b = np.where(data[:,1] == max(data[:,1]))\n",
    "    w_b = data[idx_b,0][0][0]\n",
    "    idx_ab = np.where(data[:,2] == max(data[:,2]))\n",
    "    w_ab = data[idx_ab,0][0][0]\n",
    "    bonding.append(w_b)         \n",
    "    antibonding.append(w_ab)  \n",
    "    change_sep.append(i)         \n",
    "    \n",
    "# print(bonding)    \n",
    "    \n",
    "# plt.plot(change_sep,  bonding, '-o',label='bond')\n",
    "# plt.plot(change_sep,  antibonding,'-o', label='anti')\n",
    "# plt.legend()\n",
    "# print(np.asarray(bonding)-np.asarray(antibonding))\n",
    "# for i in range(0, len(bonding)):\n",
    "#     if bonding[i]-antibonding[i] > 0:\n",
    "#         plt.plot(change_sep[i], bonding[i], 'ko')\n",
    "#         print(i)\n",
    "print(max(bonding), max(antibonding))"
   ]
  },
  {
   "cell_type": "code",
   "execution_count": null,
   "metadata": {},
   "outputs": [],
   "source": []
  },
  {
   "cell_type": "code",
   "execution_count": null,
   "metadata": {},
   "outputs": [],
   "source": []
  }
 ],
 "metadata": {
  "kernelspec": {
   "display_name": "Python 3",
   "language": "python",
   "name": "python3"
  },
  "language_info": {
   "codemirror_mode": {
    "name": "ipython",
    "version": 3
   },
   "file_extension": ".py",
   "mimetype": "text/x-python",
   "name": "python",
   "nbconvert_exporter": "python",
   "pygments_lexer": "ipython3",
   "version": "3.8.3"
  }
 },
 "nbformat": 4,
 "nbformat_minor": 4
}
