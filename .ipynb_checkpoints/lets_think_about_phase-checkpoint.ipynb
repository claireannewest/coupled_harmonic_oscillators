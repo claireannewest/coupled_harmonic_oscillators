{
 "cells": [
  {
   "cell_type": "code",
   "execution_count": null,
   "metadata": {},
   "outputs": [],
   "source": [
    "from coupled_harmonic_osc import CoupledOscillators\n",
    "import numpy as np\n",
    "import matplotlib.pyplot as plt\n",
    "\n",
    "def constants():\n",
    "    # These constants are defined for fitting Drude to JC\n",
    "    wp = 9. # eV, bulk plasma frequency \n",
    "    eps_inf = 9.7 # [unitless], static dielectric response of ionic background \n",
    "    gamNR_qs = 0.073 # non-radiative Drude damping [eV]\n",
    "    eps_b = 1.0**2 # background dielectric constant\n",
    "    return np.array([wp, eps_inf, gamNR_qs, eps_b])\n",
    "\n",
    "radii = 20\n",
    "coupled_dip = CoupledOscillators(constants(), # drude constants \n",
    "                                 1, # number of particles\n",
    "                                 1, # dipoles per particle\n",
    "                                 np.array([[0, 0]]), # particle centers\n",
    "                                 np.array([[0]]), # dipole orientations\n",
    "                                 np.array([int(radii)*1.E-7]), # radii\n",
    "                                 np.array([1]), # kind\n",
    "                                 5E-7)\n",
    "\n",
    "final_eigvals, final_eigvecs = coupled_dip.iterate()"
   ]
  }
 ],
 "metadata": {
  "kernelspec": {
   "display_name": "Python 3",
   "language": "python",
   "name": "python3"
  },
  "language_info": {
   "codemirror_mode": {
    "name": "ipython",
    "version": 3
   },
   "file_extension": ".py",
   "mimetype": "text/x-python",
   "name": "python",
   "nbconvert_exporter": "python",
   "pygments_lexer": "ipython3",
   "version": "3.8.3"
  }
 },
 "nbformat": 4,
 "nbformat_minor": 4
}
